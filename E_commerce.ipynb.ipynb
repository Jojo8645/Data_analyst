{
 "cells": [
  {
   "cell_type": "code",
   "execution_count": null,
   "id": "3dc99714-2c74-4580-a5eb-9238ee1ddd9e",
   "metadata": {},
   "outputs": [],
   "source": [
    "import pandas as pd\n",
    "import numpy as np\n",
    "import matplotlib.pyplot as plt\n",
    "import seaborn as sns\n",
    "from sklearn.preprocessing import LabelEncoder\n",
    "from sklearn.model_selection import train_test_split"
   ]
  },
  {
   "cell_type": "code",
   "execution_count": null,
   "id": "6139fce5-e960-4935-a406-5cfe0b1e241b",
   "metadata": {},
   "outputs": [],
   "source": [
    "#Load data\n",
    "db=pd.read_csv(\"Sales Transaction v.4a.csv\")\n",
    "db"
   ]
  },
  {
   "cell_type": "code",
   "execution_count": null,
   "id": "06acc29a-246f-4b13-a945-e27035e4162e",
   "metadata": {},
   "outputs": [],
   "source": [
    "db.info()"
   ]
  },
  {
   "cell_type": "code",
   "execution_count": null,
   "id": "25321ce3-4dfb-4164-92b8-7443b3674966",
   "metadata": {},
   "outputs": [],
   "source": [
    "db.describe()"
   ]
  },
  {
   "cell_type": "code",
   "execution_count": null,
   "id": "7c8eb694-c84f-4c12-8aab-9cb7847b07cc",
   "metadata": {},
   "outputs": [],
   "source": [
    "#absolute value of quantity column\n",
    "db.Quantity=db.Quantity.abs()"
   ]
  },
  {
   "cell_type": "code",
   "execution_count": null,
   "id": "d18b6205-a6cb-431c-9e2b-fc1c30544af9",
   "metadata": {},
   "outputs": [],
   "source": [
    "db"
   ]
  },
  {
   "cell_type": "code",
   "execution_count": null,
   "id": "0ca022b7-1f51-4688-bd18-6cceef3af4f1",
   "metadata": {},
   "outputs": [],
   "source": [
    "db.duplicated().sum()"
   ]
  },
  {
   "cell_type": "code",
   "execution_count": null,
   "id": "8a64d35e-5318-47f3-af4f-7a368f94fa6c",
   "metadata": {},
   "outputs": [],
   "source": [
    "db.isnull().sum()"
   ]
  },
  {
   "cell_type": "markdown",
   "id": "41e945f6-2868-4498-b72c-8b21618a71d7",
   "metadata": {},
   "source": [
    "# delete duplicate "
   ]
  },
  {
   "cell_type": "code",
   "execution_count": null,
   "id": "7539cdf0-7e64-4f9b-9075-c44a96db7df2",
   "metadata": {},
   "outputs": [],
   "source": [
    "db.drop_duplicates(inplace=True)\n",
    "db.duplicated().sum()"
   ]
  },
  {
   "cell_type": "code",
   "execution_count": null,
   "id": "d7ed1c6c-5e08-4a26-8ce1-0322f5683e64",
   "metadata": {},
   "outputs": [],
   "source": [
    "db.shape\n"
   ]
  },
  {
   "cell_type": "code",
   "execution_count": null,
   "id": "46df7b0d-a90f-4bd0-9870-7c8d1f98cda3",
   "metadata": {},
   "outputs": [],
   "source": [
    "db=db.dropna()"
   ]
  },
  {
   "cell_type": "code",
   "execution_count": null,
   "id": "ee9214af-0ee3-489a-9c89-3b3233f7c0b8",
   "metadata": {},
   "outputs": [],
   "source": [
    "db.shape\n"
   ]
  },
  {
   "cell_type": "code",
   "execution_count": null,
   "id": "bdef14c0-8e3a-4455-b0f3-30c19a915887",
   "metadata": {},
   "outputs": [],
   "source": [
    "db.isnull().sum()"
   ]
  },
  {
   "cell_type": "markdown",
   "id": "1f2dc681-27fd-483b-adb2-d014e0589d31",
   "metadata": {},
   "source": [
    "# Add cost column\n"
   ]
  },
  {
   "cell_type": "code",
   "execution_count": null,
   "id": "6863cbdf-7957-41cd-8a7c-aca22be41b72",
   "metadata": {},
   "outputs": [],
   "source": [
    "db['Cout']=db.Price*db.Quantity"
   ]
  },
  {
   "cell_type": "code",
   "execution_count": null,
   "id": "727f1e7b-0db0-4f0f-97a4-ce151f177712",
   "metadata": {},
   "outputs": [],
   "source": [
    "#Split\n",
    "\n",
    "def mois(x):\n",
    "    return x.split('/')[0]\n",
    "\n",
    "def annee(y):\n",
    "    return y.split('/')[2]\n",
    "\n",
    "db['Month']=db.Date.apply(mois)\n",
    "db['Year']=db.Date.apply(annee)\n",
    "db"
   ]
  },
  {
   "cell_type": "code",
   "execution_count": null,
   "id": "e361e39b-5c87-4f31-9ba5-46d35f2b622a",
   "metadata": {},
   "outputs": [],
   "source": [
    "#Group by month for 2019\n",
    "ann1=db[db.Year!='2018']\n",
    "\n",
    "an1=ann1.groupby('Month')[['Price','Quantity','Cout']].sum().reset_index()\n"
   ]
  },
  {
   "cell_type": "code",
   "execution_count": null,
   "id": "dbd219ac-6fb4-429b-8d05-94dc66432561",
   "metadata": {},
   "outputs": [],
   "source": [
    "# change the type of Month to numeric\n",
    "an1.Month=an1.Month.astype(int)"
   ]
  },
  {
   "cell_type": "code",
   "execution_count": null,
   "id": "4115c5cc-b61c-4275-8ac3-495d6195f657",
   "metadata": {},
   "outputs": [],
   "source": [
    "sns.barplot(x=an1.Month,y=an1.Cout,color='orange')\n",
    "plt.title('Evolution of sales in 2019')"
   ]
  },
  {
   "cell_type": "markdown",
   "id": "eddb6e21-5c6f-487f-90fb-ea1783f61f4f",
   "metadata": {},
   "source": [
    "# This graph explains the evolution of sales over the months in 2019\n"
   ]
  },
  {
   "cell_type": "code",
   "execution_count": null,
   "id": "e55b543f-4da2-484c-b01b-529df0b20d09",
   "metadata": {},
   "outputs": [],
   "source": []
  },
  {
   "cell_type": "markdown",
   "id": "8785a91c-bb9c-4d2d-97a3-81fe84f33f34",
   "metadata": {},
   "source": [
    "# \n",
    "Search for the most purchased products"
   ]
  },
  {
   "cell_type": "code",
   "execution_count": null,
   "id": "3a5bbcca-3c07-4531-bce8-b2eb9b8526ed",
   "metadata": {},
   "outputs": [],
   "source": [
    "# The top 15 most purchased products\n",
    "most=db.groupby('ProductName')['Quantity'].sum().sort_values(ascending=False)\n",
    "most=pd.DataFrame(most).reset_index()\n",
    "print('This is the top 20 most purchased products')\n",
    "top=most.head(20)\n",
    "top"
   ]
  },
  {
   "cell_type": "code",
   "execution_count": null,
   "id": "9df6058c-5b66-492e-bd41-1a0f2439fb52",
   "metadata": {},
   "outputs": [],
   "source": [
    "sns.barplot(x=top.ProductName,y=top.Quantity)\n",
    "plt.xticks(rotation=90)\n",
    "plt.title('Top 20 most purchased products')\n",
    "plt.xlabel('Product Name')\n",
    "plt.ylabel('Quantity purchased')"
   ]
  },
  {
   "cell_type": "markdown",
   "id": "94f1dc23-6992-4bc4-9793-16e3842de6ef",
   "metadata": {},
   "source": [
    "# For transaction how many product there are ?"
   ]
  },
  {
   "cell_type": "code",
   "execution_count": null,
   "id": "617961f2-1208-4495-844e-e7cb229643e6",
   "metadata": {},
   "outputs": [],
   "source": [
    "tr=db.groupby('TransactionNo')['Quantity'].sum().sort_values(ascending=False).reset_index()\n",
    "\n",
    "tr"
   ]
  },
  {
   "cell_type": "code",
   "execution_count": null,
   "id": "28b538cb-71ec-402c-ae9a-a9faf5ac1654",
   "metadata": {},
   "outputs": [],
   "source": [
    "tr.shape[0]"
   ]
  },
  {
   "cell_type": "markdown",
   "id": "cfdd6597-0705-4c18-ac05-181ba3492295",
   "metadata": {},
   "source": [
    "## For this dataset, there are 23 168 transaction"
   ]
  },
  {
   "cell_type": "code",
   "execution_count": null,
   "id": "91edf588-e75e-425a-bff5-215eaf93bd50",
   "metadata": {},
   "outputs": [],
   "source": [
    "#Average product quantity for transction\n",
    "tr.Quantity.mean()"
   ]
  },
  {
   "cell_type": "markdown",
   "id": "95fd1846-0c24-4c4c-9080-45144737db24",
   "metadata": {},
   "source": [
    "# on average 252 products are purchased in each transaction"
   ]
  },
  {
   "cell_type": "code",
   "execution_count": null,
   "id": "1b37ae09-088d-43c2-baf6-baf03dcfb189",
   "metadata": {},
   "outputs": [],
   "source": [
    "from sklearn.cluster import KMeans\n",
    "from sklearn.preprocessing import StandardScaler"
   ]
  },
  {
   "cell_type": "code",
   "execution_count": null,
   "id": "c89c612b-fc50-42fc-8966-5301ab26286b",
   "metadata": {},
   "outputs": [],
   "source": [
    "db.head(2)"
   ]
  },
  {
   "cell_type": "code",
   "execution_count": null,
   "id": "662706fe-098e-40bd-82f1-d91859b8b4a5",
   "metadata": {},
   "outputs": [],
   "source": [
    "x=db[['Price','Quantity','Cout']]\n",
    "x.head(2)"
   ]
  },
  {
   "cell_type": "code",
   "execution_count": null,
   "id": "8ba9945b-b510-4597-b82f-c93052e0ddfe",
   "metadata": {},
   "outputs": [],
   "source": [
    "scaler=StandardScaler()\n",
    "group=scaler.fit_transform(x)\n"
   ]
  },
  {
   "cell_type": "code",
   "execution_count": null,
   "id": "cb2a2c91-42d6-496f-9109-73be9150b861",
   "metadata": {},
   "outputs": [],
   "source": [
    "kmean=KMeans(n_clusters=2,random_state=42)\n",
    "db['Score']=kmean.fit_predict(group)\n",
    "db.head(2)"
   ]
  },
  {
   "cell_type": "code",
   "execution_count": null,
   "id": "99f6ef5d-1322-4e4e-9639-bdc12db2ae21",
   "metadata": {},
   "outputs": [],
   "source": [
    "db.groupby('Score').mean()"
   ]
  },
  {
   "cell_type": "code",
   "execution_count": null,
   "id": "8757dba4-6b8f-4158-8f36-f652faf4b4e2",
   "metadata": {},
   "outputs": [],
   "source": [
    "\n",
    "sns.scatterplot(x='Quantity', y='Cout', hue='Score', data=db, palette='viridis')\n",
    "plt.title('Segmentation des clients')\n",
    "plt.show()"
   ]
  },
  {
   "cell_type": "code",
   "execution_count": null,
   "id": "bbb1437c-2fd8-44ab-9b38-622bd960d761",
   "metadata": {},
   "outputs": [],
   "source": []
  },
  {
   "cell_type": "code",
   "execution_count": null,
   "id": "7ea9ace6-e01f-45a0-8506-d7ed11861ffe",
   "metadata": {},
   "outputs": [],
   "source": []
  }
 ],
 "metadata": {
  "kernelspec": {
   "display_name": "Python 3 (ipykernel)",
   "language": "python",
   "name": "python3"
  },
  "language_info": {
   "codemirror_mode": {
    "name": "ipython",
    "version": 3
   },
   "file_extension": ".py",
   "mimetype": "text/x-python",
   "name": "python",
   "nbconvert_exporter": "python",
   "pygments_lexer": "ipython3",
   "version": "3.12.4"
  }
 },
 "nbformat": 4,
 "nbformat_minor": 5
}
